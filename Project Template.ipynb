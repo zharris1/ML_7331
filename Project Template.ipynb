{
 "cells": [
  {
   "cell_type": "markdown",
   "metadata": {},
   "source": [
    "# Title\n",
    "Created by Sadik Aman, Dawn Bowerman, Zachary Harris, Alexandre Jasserme  \n",
    "\n",
    "\n",
    "QUESTION; what is the official rubric\n",
    "\n",
    "\n",
    "## Business Understanding\n",
    "\n",
    "This dataset is from the Johns Hopkins University dashboard which is maintained by the Center for Systems Science and Engineering.  The data has been accumulated since January 22, 2020 on confirmed Covid-19 cases and deaths for all countries. \n",
    "\n",
    "\n",
    "Why is dataset important. Covid-19, first identified in December of 2019, has grown to become a pandemic affecting millions of people to the\n",
    "\n",
    "QUESTION: Mined useful data - How do we define \"useful data\"?\n",
    "\n",
    "QUESTION: Define and measure the outcomes? -- MSE, Root MSE, Mean Absolute Error (10-fold cross validation, 5 fold, etc)\n",
    "\n",
    "Note: To put it in short, if there are many outliers then you may consider using Mean Absolute Error (also called the Average Absolute Deviation). RMSE is more sensitive to outliers than the MAE. But when outliers are exponentially rare (like in a bell-shaped curve), the RMSE performs very well and is generally preferred.\n",
    "\n",
    "\n",
    "## Data Understanding\n",
    "\n",
    "### Data Meaning Type\n",
    "\n",
    "QUESTION; Do you have to identify all attributes of the original data set, or simply say this is the manipulated dataset used for this specific analysis?\n",
    "\n",
    "\n",
    "The original dataset chosen for this study contains information various types of information for pandemic caused by Covid - 19 from 2019 to 2021. The dataset contains 11914 observations and sixteen variables. More information can be found in Table 1 below.\n",
    "\n",
    "| Variable | Variable Name | Data Type | Description |\n",
    "|----------|---------------|-----------|-------------|\n",
    "|          |               |           |             |\n",
    "|          |               |           |             |\n",
    "|          |               |           |             |\n",
    "\n",
    "### Data Quality\n",
    "\n",
    "### Simple Statistics\n",
    "\n",
    "\n",
    "\n",
    "### Visualize Attributes\n",
    "\n",
    "### Explore Joint Attributes\n",
    "\n",
    "QUESTION: Clarify relations question\n",
    "\n",
    "\n",
    "\n",
    "\n",
    "\n",
    "### Explore Attributes and Class\n",
    "\n",
    "QUESTION: Classification, continuous variable into level, object.. question mini lab\n",
    "\n",
    "\n",
    "### New Features\n",
    "\n",
    "Question: are we going to be required to add new features in future labs if we clarify it in this one\n",
    "\n",
    "## Exceptional Work\n",
    "\n"
   ]
  },
  {
   "cell_type": "code",
   "execution_count": null,
   "metadata": {},
   "outputs": [],
   "source": [
    "# Draft\n",
    "\n",
    "## Predictions\n",
    "* new_deaths\n",
    "* new_deaths_smoothed\n",
    "* new_cases\n",
    "* weekly_hosp_admissions\n",
    "\n"
   ]
  },
  {
   "cell_type": "code",
   "execution_count": null,
   "metadata": {},
   "outputs": [],
   "source": [
    "#Libraries\n",
    "\n",
    "import numpy as np\n",
    "import matplotlib.pyplot as plt\n",
    "import pandas as pd\n",
    "import sqlite3"
   ]
  },
  {
   "cell_type": "code",
   "execution_count": null,
   "metadata": {},
   "outputs": [],
   "source": [
    "#Import covid dataset from CSV File\n",
    "\n",
    "covid_data = pd.read_csv('/Users/ZacharyHarris/Downloads/owid-covid-data.csv')"
   ]
  },
  {
   "cell_type": "code",
   "execution_count": null,
   "metadata": {},
   "outputs": [],
   "source": [
    "#0 iso_code \n",
    "#4 total_cases \n",
    "#7 total_deaths \n",
    "#10 total_cases_per_million\n",
    "#11 new_cases_per_million \n",
    "#12 new_cases_smoothed_per_million \n",
    "#13 total_deaths_per_million\n",
    "#14 total_death_per_million\n",
    "#15 new_deaths_smoothed_per_million\n",
    "#18 icu_patients_per_million  \n",
    "#20 hosp_patients_per_million\n",
    "#22  weekly_icu_admissions_per_million\n",
    "#24  weekly_hosp_admissions_per_million\n",
    "#26 total_tests\n",
    "#27 total_tests_per_thousand \n",
    "#28  new_tests_per_thousand \n",
    "#30  new_tests_smoothed_per_thousand\n",
    "#33  tests_units \n",
    "#34 total_vaccinations\n",
    "#35 people_vaccinated\n",
    "#40 total_vaccinations_per_hundred \n",
    "#41 people_vaccinated_per_hundred\n",
    "#42  people_fully_vaccinated_per_hundred         \n",
    "#43  total_boosters_per_hundred                 \n",
    "#44  new_vaccinations_smoothed_per_million \n",
    "#46 new_people_vaccinated_smoothed_per_hundred\n",
    "#63  excess_mortality_cumulative_absolute  \n",
    "#64  excess_mortality_cumulative\n",
    "#66 excess_mortality_cumulative_per_million"
   ]
  },
  {
   "cell_type": "code",
   "execution_count": null,
   "metadata": {},
   "outputs": [],
   "source": [
    "covid_data.info()"
   ]
  },
  {
   "cell_type": "code",
   "execution_count": null,
   "metadata": {},
   "outputs": [],
   "source": [
    "covid_data_alt = covid_data.drop(covid_data.columns[[0,4,7,10,11,12,13,14,15,18,20,22,24,26,27,28,30,33,34,35,40,41,42,43,44,46,63,64,66]], axis=1) "
   ]
  },
  {
   "cell_type": "markdown",
   "metadata": {},
   "source": [
    "# Delete roll - up Columns...... CAUTION: Data record mismatch. 26 more removed than intended"
   ]
  },
  {
   "cell_type": "code",
   "execution_count": null,
   "metadata": {},
   "outputs": [],
   "source": [
    "covid_data_alt['continent'].replace('', np.nan, inplace=True)\n",
    "covid_data_alt.dropna(subset=['continent'], inplace=True)\n",
    "covid_data_alt.info()"
   ]
  }
 ],
 "metadata": {
  "kernelspec": {
   "display_name": "Python 3",
   "language": "python",
   "name": "python3"
  },
  "language_info": {
   "codemirror_mode": {
    "name": "ipython",
    "version": 3
   },
   "file_extension": ".py",
   "mimetype": "text/x-python",
   "name": "python",
   "nbconvert_exporter": "python",
   "pygments_lexer": "ipython3",
   "version": "3.8.5"
  }
 },
 "nbformat": 4,
 "nbformat_minor": 4
}

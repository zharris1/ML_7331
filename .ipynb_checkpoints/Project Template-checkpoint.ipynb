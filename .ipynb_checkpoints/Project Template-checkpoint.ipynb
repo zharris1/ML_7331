{
 "cells": [
  {
   "cell_type": "markdown",
   "metadata": {},
   "source": [
    "# Title\n",
    "Created by Sadik Aman, Dawn Bowerman, Zachary Harris, Alexandre Jasserme  \n",
    "\n",
    "\n",
    "QUESTION; what is the official rubric"
   ]
  },
  {
   "cell_type": "markdown",
   "metadata": {},
   "source": [
    "## Business Understanding\n",
    "\n",
    "This dataset is from the Johns Hopkins University dashboard which is maintained by the Center for Systems Science and Engineering.  The data has been accumulated since January 22, 2020 on confirmed Covid-19 cases and deaths for all countries. \n",
    "\n",
    "\n",
    "Why is dataset important. Covid-19, first identified in December of 2019, has grown to become a pandemic affecting millions of people to the\n",
    "\n",
    "QUESTION: Mined useful data - How do we define \"useful data\"?\n",
    "\n",
    "QUESTION: Define and measure the outcomes? -- MSE, Root MSE, Mean Absolute Error (10-fold cross validation, 5 fold, etc)\n",
    "\n",
    "Note: To put it in short, if there are many outliers then you may consider using Mean Absolute Error (also called the Average Absolute Deviation). RMSE is more sensitive to outliers than the MAE. But when outliers are exponentially rare (like in a bell-shaped curve), the RMSE performs very well and is generally preferred.\n",
    "\n",
    "\n"
   ]
  },
  {
   "cell_type": "markdown",
   "metadata": {},
   "source": [
    "\n",
    "\n",
    "## Data Understanding\n",
    "\n",
    "### Data Meaning Type\n",
    "\n",
    "QUESTION; Do you have to identify all attributes of the original data set, or simply say this is the manipulated dataset used for this specific analysis?\n",
    "\n",
    "\n",
    "The original dataset chosen for this study contains information various types of information for pandemic caused by Covid - 19 from 2019 to 2021. The dataset contains 11914 observations and sixteen variables. More information can be found in Table 1 below.\n",
    "\n",
    "| Variable | Variable Name | Data Type | Description |\n",
    "|----------|---------------|-----------|-------------|\n",
    "|          |               |           |             |\n",
    "|          |               |           |             |\n",
    "|          |               |           |             |\n",
    "\n",
    "\n",
    "\n"
   ]
  },
  {
   "cell_type": "code",
   "execution_count": 1,
   "metadata": {},
   "outputs": [],
   "source": [
    "# Draft\n",
    "\n",
    "## Predictions\n",
    "# new_deaths\n",
    "# new_deaths_smoothed\n",
    "# new_cases\n",
    "# weekly_hosp_admissions\n",
    "\n"
   ]
  },
  {
   "cell_type": "code",
   "execution_count": 2,
   "metadata": {},
   "outputs": [],
   "source": [
    "#Libraries\n",
    "\n",
    "import numpy as np\n",
    "import matplotlib.pyplot as plt\n",
    "import pandas as pd\n",
    "import sqlite3"
   ]
  },
  {
   "cell_type": "code",
   "execution_count": 3,
   "metadata": {},
   "outputs": [],
   "source": [
    "#Import covid dataset from CSV File\n",
    "\n",
    "covid_data = pd.read_csv('data/owid-covid-data.csv')"
   ]
  },
  {
   "cell_type": "code",
   "execution_count": 4,
   "metadata": {},
   "outputs": [],
   "source": [
    "#0 iso_code \n",
    "#4 total_cases \n",
    "#7 total_deaths \n",
    "#10 total_cases_per_million\n",
    "#11 new_cases_per_million \n",
    "#12 new_cases_smoothed_per_million \n",
    "#13 total_deaths_per_million\n",
    "#14 total_death_per_million\n",
    "#15 new_deaths_smoothed_per_million\n",
    "#18 icu_patients_per_million  \n",
    "#20 hosp_patients_per_million\n",
    "#22  weekly_icu_admissions_per_million\n",
    "#24  weekly_hosp_admissions_per_million\n",
    "#26 total_tests\n",
    "#27 total_tests_per_thousand \n",
    "#28  new_tests_per_thousand \n",
    "#30  new_tests_smoothed_per_thousand\n",
    "#33  tests_units \n",
    "#34 total_vaccinations\n",
    "#35 people_vaccinated\n",
    "#40 total_vaccinations_per_hundred \n",
    "#41 people_vaccinated_per_hundred\n",
    "#42  people_fully_vaccinated_per_hundred         \n",
    "#43  total_boosters_per_hundred                 \n",
    "#44  new_vaccinations_smoothed_per_million \n",
    "#46 new_people_vaccinated_smoothed_per_hundred\n",
    "#63  excess_mortality_cumulative_absolute  \n",
    "#64  excess_mortality_cumulative\n",
    "#66 excess_mortality_cumulative_per_million"
   ]
  },
  {
   "cell_type": "code",
   "execution_count": 5,
   "metadata": {},
   "outputs": [
    {
     "name": "stdout",
     "output_type": "stream",
     "text": [
      "<class 'pandas.core.frame.DataFrame'>\n",
      "RangeIndex: 154105 entries, 0 to 154104\n",
      "Data columns (total 67 columns):\n",
      " #   Column                                      Non-Null Count   Dtype  \n",
      "---  ------                                      --------------   -----  \n",
      " 0   iso_code                                    154105 non-null  object \n",
      " 1   continent                                   144825 non-null  object \n",
      " 2   location                                    154105 non-null  object \n",
      " 3   date                                        154105 non-null  object \n",
      " 4   total_cases                                 151434 non-null  float64\n",
      " 5   new_cases                                   151379 non-null  float64\n",
      " 6   new_cases_smoothed                          150228 non-null  float64\n",
      " 7   total_deaths                                134139 non-null  float64\n",
      " 8   new_deaths                                  134314 non-null  float64\n",
      " 9   new_deaths_smoothed                         134182 non-null  float64\n",
      " 10  total_cases_per_million                     150728 non-null  float64\n",
      " 11  new_cases_per_million                       150673 non-null  float64\n",
      " 12  new_cases_smoothed_per_million              149527 non-null  float64\n",
      " 13  total_deaths_per_million                    133446 non-null  float64\n",
      " 14  new_deaths_per_million                      133621 non-null  float64\n",
      " 15  new_deaths_smoothed_per_million             133489 non-null  float64\n",
      " 16  reproduction_rate                           116265 non-null  float64\n",
      " 17  icu_patients                                20354 non-null   float64\n",
      " 18  icu_patients_per_million                    20354 non-null   float64\n",
      " 19  hosp_patients                               21529 non-null   float64\n",
      " 20  hosp_patients_per_million                   21529 non-null   float64\n",
      " 21  weekly_icu_admissions                       4277 non-null    float64\n",
      " 22  weekly_icu_admissions_per_million           4277 non-null    float64\n",
      " 23  weekly_hosp_admissions                      8669 non-null    float64\n",
      " 24  weekly_hosp_admissions_per_million          8669 non-null    float64\n",
      " 25  new_tests                                   61016 non-null   float64\n",
      " 26  total_tests                                 62651 non-null   float64\n",
      " 27  total_tests_per_thousand                    62651 non-null   float64\n",
      " 28  new_tests_per_thousand                      61016 non-null   float64\n",
      " 29  new_tests_smoothed                          74332 non-null   float64\n",
      " 30  new_tests_smoothed_per_thousand             73626 non-null   float64\n",
      " 31  positive_rate                               69422 non-null   float64\n",
      " 32  tests_per_case                              68765 non-null   float64\n",
      " 33  tests_units                                 75827 non-null   object \n",
      " 34  total_vaccinations                          39909 non-null   float64\n",
      " 35  people_vaccinated                           38187 non-null   float64\n",
      " 36  people_fully_vaccinated                     35353 non-null   float64\n",
      " 37  total_boosters                              12943 non-null   float64\n",
      " 38  new_vaccinations                            33034 non-null   float64\n",
      " 39  new_vaccinations_smoothed                   72914 non-null   float64\n",
      " 40  total_vaccinations_per_hundred              39909 non-null   float64\n",
      " 41  people_vaccinated_per_hundred               38187 non-null   float64\n",
      " 42  people_fully_vaccinated_per_hundred         35353 non-null   float64\n",
      " 43  total_boosters_per_hundred                  12943 non-null   float64\n",
      " 44  new_vaccinations_smoothed_per_million       72914 non-null   float64\n",
      " 45  new_people_vaccinated_smoothed              71946 non-null   float64\n",
      " 46  new_people_vaccinated_smoothed_per_hundred  71946 non-null   float64\n",
      " 47  stringency_index                            120783 non-null  float64\n",
      " 48  population                                  153082 non-null  float64\n",
      " 49  population_density                          137166 non-null  float64\n",
      " 50  median_age                                  127986 non-null  float64\n",
      " 51  aged_65_older                               126596 non-null  float64\n",
      " 52  aged_70_older                               127299 non-null  float64\n",
      " 53  gdp_per_capita                              128418 non-null  float64\n",
      " 54  extreme_poverty                             84750 non-null   float64\n",
      " 55  cardiovasc_death_rate                       126985 non-null  float64\n",
      " 56  diabetes_prevalence                         133496 non-null  float64\n",
      " 57  female_smokers                              98353 non-null   float64\n",
      " 58  male_smokers                                96937 non-null   float64\n",
      " 59  handwashing_facilities                      63602 non-null   float64\n",
      " 60  hospital_beds_per_thousand                  114719 non-null  float64\n",
      " 61  life_expectancy                             143820 non-null  float64\n",
      " 62  human_development_index                     126460 non-null  float64\n",
      " 63  excess_mortality_cumulative_absolute        5234 non-null    float64\n",
      " 64  excess_mortality_cumulative                 5234 non-null    float64\n",
      " 65  excess_mortality                            5234 non-null    float64\n",
      " 66  excess_mortality_cumulative_per_million     5234 non-null    float64\n",
      "dtypes: float64(62), object(5)\n",
      "memory usage: 78.8+ MB\n"
     ]
    }
   ],
   "source": [
    "covid_data.info()"
   ]
  },
  {
   "cell_type": "code",
   "execution_count": 6,
   "metadata": {},
   "outputs": [],
   "source": [
    "covid_data_alt = covid_data.drop(covid_data.columns[[0,4,7,10,11,12,13,14,15,18,20,22,24,26,27,28,30,33,34,35,40,41,42,43,44,46,63,64,66]], axis=1) "
   ]
  },
  {
   "cell_type": "code",
   "execution_count": 7,
   "metadata": {},
   "outputs": [
    {
     "name": "stdout",
     "output_type": "stream",
     "text": [
      "<class 'pandas.core.frame.DataFrame'>\n",
      "Int64Index: 144825 entries, 0 to 154104\n",
      "Data columns (total 38 columns):\n",
      " #   Column                          Non-Null Count   Dtype  \n",
      "---  ------                          --------------   -----  \n",
      " 0   continent                       144825 non-null  object \n",
      " 1   location                        144825 non-null  object \n",
      " 2   date                            144825 non-null  object \n",
      " 3   new_cases                       142099 non-null  float64\n",
      " 4   new_cases_smoothed              141025 non-null  float64\n",
      " 5   new_deaths                      125047 non-null  float64\n",
      " 6   new_deaths_smoothed             124987 non-null  float64\n",
      " 7   reproduction_rate               115546 non-null  float64\n",
      " 8   icu_patients                    20354 non-null   float64\n",
      " 9   hosp_patients                   21529 non-null   float64\n",
      " 10  weekly_icu_admissions           4277 non-null    float64\n",
      " 11  weekly_hosp_admissions          8669 non-null    float64\n",
      " 12  new_tests                       61016 non-null   float64\n",
      " 13  new_tests_smoothed              73626 non-null   float64\n",
      " 14  positive_rate                   69422 non-null   float64\n",
      " 15  tests_per_case                  68765 non-null   float64\n",
      " 16  people_fully_vaccinated         30965 non-null   float64\n",
      " 17  total_boosters                  9611 non-null    float64\n",
      " 18  new_vaccinations                28514 non-null   float64\n",
      " 19  new_vaccinations_smoothed       68313 non-null   float64\n",
      " 20  new_people_vaccinated_smoothed  67345 non-null   float64\n",
      " 21  stringency_index                120783 non-null  float64\n",
      " 22  population                      144508 non-null  float64\n",
      " 23  population_density              136444 non-null  float64\n",
      " 24  median_age                      127264 non-null  float64\n",
      " 25  aged_65_older                   125874 non-null  float64\n",
      " 26  aged_70_older                   126577 non-null  float64\n",
      " 27  gdp_per_capita                  127696 non-null  float64\n",
      " 28  extreme_poverty                 84028 non-null   float64\n",
      " 29  cardiovasc_death_rate           126263 non-null  float64\n",
      " 30  diabetes_prevalence             132774 non-null  float64\n",
      " 31  female_smokers                  97631 non-null   float64\n",
      " 32  male_smokers                    96215 non-null   float64\n",
      " 33  handwashing_facilities          62880 non-null   float64\n",
      " 34  hospital_beds_per_thousand      113997 non-null  float64\n",
      " 35  life_expectancy                 143098 non-null  float64\n",
      " 36  human_development_index         125738 non-null  float64\n",
      " 37  excess_mortality                5234 non-null    float64\n",
      "dtypes: float64(35), object(3)\n",
      "memory usage: 43.1+ MB\n"
     ]
    }
   ],
   "source": [
    "covid_data_alt['continent'].replace('', np.nan, inplace=True)\n",
    "covid_data_alt.dropna(subset=['continent'], inplace=True)\n",
    "covid_data_alt.info()"
   ]
  },
  {
   "cell_type": "markdown",
   "metadata": {},
   "source": [
    "### Data Quality"
   ]
  },
  {
   "cell_type": "markdown",
   "metadata": {},
   "source": [
    "### Simple Statistics"
   ]
  },
  {
   "cell_type": "markdown",
   "metadata": {},
   "source": [
    "### Visualize Attributes"
   ]
  },
  {
   "cell_type": "markdown",
   "metadata": {},
   "source": [
    "### Explore Joint Attributes\n",
    "QUESTION: Clarify relations question"
   ]
  },
  {
   "cell_type": "markdown",
   "metadata": {},
   "source": [
    "### Explore Attributes and Class\n",
    "\n",
    "QUESTION: Classification, continuous variable into level, object.. question mini lab\n"
   ]
  },
  {
   "cell_type": "markdown",
   "metadata": {},
   "source": [
    "### New Features\n",
    "\n",
    "Question: are we going to be required to add new features in future labs if we clarify it in this one"
   ]
  },
  {
   "cell_type": "markdown",
   "metadata": {},
   "source": [
    "\n",
    "## Exceptional Work"
   ]
  }
 ],
 "metadata": {
  "kernelspec": {
   "display_name": "Python 3 (ipykernel)",
   "language": "python",
   "name": "python3"
  },
  "language_info": {
   "codemirror_mode": {
    "name": "ipython",
    "version": 3
   },
   "file_extension": ".py",
   "mimetype": "text/x-python",
   "name": "python",
   "nbconvert_exporter": "python",
   "pygments_lexer": "ipython3",
   "version": "3.9.7"
  }
 },
 "nbformat": 4,
 "nbformat_minor": 4
}

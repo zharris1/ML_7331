{
 "cells": [
  {
   "cell_type": "markdown",
   "metadata": {},
   "source": [
    "# Draft\n",
    "\n",
    "## Predictions\n",
    "* new_deaths\n",
    "* new_deaths_smoothed\n",
    "* new_cases\n",
    "* weekly_hosp_admissions\n",
    "\n",
    "* df = pd.read_csv('data/owid-covid-data.csv') # read in the csv file"
   ]
  },
  {
   "cell_type": "code",
   "execution_count": 2,
   "metadata": {},
   "outputs": [],
   "source": [
    "#Libraries\n",
    "\n",
    "import numpy as np\n",
    "import matplotlib.pyplot as plt\n",
    "import pandas as pd\n",
    "import sqlite3"
   ]
  },
  {
   "cell_type": "code",
   "execution_count": 3,
   "metadata": {},
   "outputs": [],
   "source": [
    "#Import covid dataset from CSV File\n",
    "\n",
    "covid_data = pd.read_csv('data/owid-covid-data.csv')"
   ]
  },
  {
   "cell_type": "code",
   "execution_count": 4,
   "metadata": {},
   "outputs": [],
   "source": [
    "#0 iso_code \n",
    "#4 total_cases \n",
    "#7 total_deaths \n",
    "#10 total_cases_per_million\n",
    "#11 new_cases_per_million \n",
    "#12 new_cases_smoothed_per_million \n",
    "#13 total_deaths_per_million\n",
    "#14 total_death_per_million\n",
    "#15 new_deaths_smoothed_per_million\n",
    "#18 icu_patients_per_million  \n",
    "#20 hosp_patients_per_million\n",
    "#22  weekly_icu_admissions_per_million\n",
    "#24  weekly_hosp_admissions_per_million\n",
    "#26 total_tests\n",
    "#27 total_tests_per_thousand \n",
    "#28  new_tests_per_thousand \n",
    "#30  new_tests_smoothed_per_thousand\n",
    "#33  tests_units \n",
    "#34 total_vaccinations\n",
    "#35 people_vaccinated\n",
    "#40 total_vaccinations_per_hundred \n",
    "#41 people_vaccinated_per_hundred\n",
    "#42  people_fully_vaccinated_per_hundred         \n",
    "#43  total_boosters_per_hundred                 \n",
    "#44  new_vaccinations_smoothed_per_million \n",
    "#46 new_people_vaccinated_smoothed_per_hundred\n",
    "#63  excess_mortality_cumulative_absolute  \n",
    "#64  excess_mortality_cumulative\n",
    "#66 excess_mortality_cumulative_per_million"
   ]
  },
  {
   "cell_type": "code",
   "execution_count": 5,
   "metadata": {
    "scrolled": true
   },
   "outputs": [
    {
     "name": "stdout",
     "output_type": "stream",
     "text": [
      "<class 'pandas.core.frame.DataFrame'>\n",
      "RangeIndex: 154683 entries, 0 to 154682\n",
      "Data columns (total 67 columns):\n",
      " #   Column                                      Non-Null Count   Dtype  \n",
      "---  ------                                      --------------   -----  \n",
      " 0   iso_code                                    154683 non-null  object \n",
      " 1   continent                                   145377 non-null  object \n",
      " 2   location                                    154683 non-null  object \n",
      " 3   date                                        154683 non-null  object \n",
      " 4   total_cases                                 151890 non-null  float64\n",
      " 5   new_cases                                   151844 non-null  float64\n",
      " 6   new_cases_smoothed                          150693 non-null  float64\n",
      " 7   total_deaths                                134569 non-null  float64\n",
      " 8   new_deaths                                  134742 non-null  float64\n",
      " 9   new_deaths_smoothed                         134610 non-null  float64\n",
      " 10  total_cases_per_million                     151182 non-null  float64\n",
      " 11  new_cases_per_million                       151136 non-null  float64\n",
      " 12  new_cases_smoothed_per_million              149990 non-null  float64\n",
      " 13  total_deaths_per_million                    133874 non-null  float64\n",
      " 14  new_deaths_per_million                      134047 non-null  float64\n",
      " 15  new_deaths_smoothed_per_million             133915 non-null  float64\n",
      " 16  reproduction_rate                           116450 non-null  float64\n",
      " 17  icu_patients                                20397 non-null   float64\n",
      " 18  icu_patients_per_million                    20397 non-null   float64\n",
      " 19  hosp_patients                               21564 non-null   float64\n",
      " 20  hosp_patients_per_million                   21564 non-null   float64\n",
      " 21  weekly_icu_admissions                       4294 non-null    float64\n",
      " 22  weekly_icu_admissions_per_million           4294 non-null    float64\n",
      " 23  weekly_hosp_admissions                      8694 non-null    float64\n",
      " 24  weekly_hosp_admissions_per_million          8694 non-null    float64\n",
      " 25  new_tests                                   61107 non-null   float64\n",
      " 26  total_tests                                 62746 non-null   float64\n",
      " 27  total_tests_per_thousand                    62746 non-null   float64\n",
      " 28  new_tests_per_thousand                      61107 non-null   float64\n",
      " 29  new_tests_smoothed                          74451 non-null   float64\n",
      " 30  new_tests_smoothed_per_thousand             73744 non-null   float64\n",
      " 31  positive_rate                               69532 non-null   float64\n",
      " 32  tests_per_case                              68875 non-null   float64\n",
      " 33  tests_units                                 75945 non-null   object \n",
      " 34  total_vaccinations                          40083 non-null   float64\n",
      " 35  people_vaccinated                           38352 non-null   float64\n",
      " 36  people_fully_vaccinated                     35521 non-null   float64\n",
      " 37  total_boosters                              13042 non-null   float64\n",
      " 38  new_vaccinations                            33191 non-null   float64\n",
      " 39  new_vaccinations_smoothed                   73319 non-null   float64\n",
      " 40  total_vaccinations_per_hundred              40083 non-null   float64\n",
      " 41  people_vaccinated_per_hundred               38352 non-null   float64\n",
      " 42  people_fully_vaccinated_per_hundred         35521 non-null   float64\n",
      " 43  total_boosters_per_hundred                  13042 non-null   float64\n",
      " 44  new_vaccinations_smoothed_per_million       73319 non-null   float64\n",
      " 45  new_people_vaccinated_smoothed              72348 non-null   float64\n",
      " 46  new_people_vaccinated_smoothed_per_hundred  72348 non-null   float64\n",
      " 47  stringency_index                            120990 non-null  float64\n",
      " 48  population                                  153658 non-null  float64\n",
      " 49  population_density                          137696 non-null  float64\n",
      " 50  median_age                                  128366 non-null  float64\n",
      " 51  aged_65_older                               126972 non-null  float64\n",
      " 52  aged_70_older                               127677 non-null  float64\n",
      " 53  gdp_per_capita                              128922 non-null  float64\n",
      " 54  extreme_poverty                             85000 non-null   float64\n",
      " 55  cardiovasc_death_rate                       127363 non-null  float64\n",
      " 56  diabetes_prevalence                         134016 non-null  float64\n",
      " 57  female_smokers                              98767 non-null   float64\n",
      " 58  male_smokers                                97347 non-null   float64\n",
      " 59  handwashing_facilities                      63792 non-null   float64\n",
      " 60  hospital_beds_per_thousand                  115181 non-null  float64\n",
      " 61  life_expectancy                             144372 non-null  float64\n",
      " 62  human_development_index                     126838 non-null  float64\n",
      " 63  excess_mortality_cumulative_absolute        5234 non-null    float64\n",
      " 64  excess_mortality_cumulative                 5234 non-null    float64\n",
      " 65  excess_mortality                            5234 non-null    float64\n",
      " 66  excess_mortality_cumulative_per_million     5234 non-null    float64\n",
      "dtypes: float64(62), object(5)\n",
      "memory usage: 79.1+ MB\n"
     ]
    }
   ],
   "source": [
    "covid_data.info()"
   ]
  },
  {
   "cell_type": "code",
   "execution_count": 6,
   "metadata": {},
   "outputs": [],
   "source": [
    "covid_data_alt = covid_data.drop(covid_data.columns[[0,4,7,10,11,12,13,14,15,18,20,22,24,26,27,28,30,33,34,35,40,41,42,43,44,46,63,64,66]], axis=1) "
   ]
  },
  {
   "cell_type": "markdown",
   "metadata": {},
   "source": [
    "# Delete roll - up Columns...... CAUTION: Data record mismatch. 26 more removed than intended"
   ]
  },
  {
   "cell_type": "code",
   "execution_count": 8,
   "metadata": {},
   "outputs": [
    {
     "name": "stdout",
     "output_type": "stream",
     "text": [
      "<class 'pandas.core.frame.DataFrame'>\n",
      "Int64Index: 145377 entries, 0 to 154682\n",
      "Data columns (total 38 columns):\n",
      " #   Column                          Non-Null Count   Dtype  \n",
      "---  ------                          --------------   -----  \n",
      " 0   continent                       145377 non-null  object \n",
      " 1   location                        145377 non-null  object \n",
      " 2   date                            145377 non-null  object \n",
      " 3   new_cases                       142538 non-null  float64\n",
      " 4   new_cases_smoothed              141464 non-null  float64\n",
      " 5   new_deaths                      125449 non-null  float64\n",
      " 6   new_deaths_smoothed             125389 non-null  float64\n",
      " 7   reproduction_rate               115730 non-null  float64\n",
      " 8   icu_patients                    20397 non-null   float64\n",
      " 9   hosp_patients                   21564 non-null   float64\n",
      " 10  weekly_icu_admissions           4294 non-null    float64\n",
      " 11  weekly_hosp_admissions          8694 non-null    float64\n",
      " 12  new_tests                       61107 non-null   float64\n",
      " 13  new_tests_smoothed              73744 non-null   float64\n",
      " 14  positive_rate                   69532 non-null   float64\n",
      " 15  tests_per_case                  68875 non-null   float64\n",
      " 16  people_fully_vaccinated         31110 non-null   float64\n",
      " 17  total_boosters                  9688 non-null    float64\n",
      " 18  new_vaccinations                28648 non-null   float64\n",
      " 19  new_vaccinations_smoothed       68695 non-null   float64\n",
      " 20  new_people_vaccinated_smoothed  67724 non-null   float64\n",
      " 21  stringency_index                120990 non-null  float64\n",
      " 22  population                      145060 non-null  float64\n",
      " 23  population_density              136972 non-null  float64\n",
      " 24  median_age                      127642 non-null  float64\n",
      " 25  aged_65_older                   126248 non-null  float64\n",
      " 26  aged_70_older                   126953 non-null  float64\n",
      " 27  gdp_per_capita                  128198 non-null  float64\n",
      " 28  extreme_poverty                 84276 non-null   float64\n",
      " 29  cardiovasc_death_rate           126639 non-null  float64\n",
      " 30  diabetes_prevalence             133292 non-null  float64\n",
      " 31  female_smokers                  98043 non-null   float64\n",
      " 32  male_smokers                    96623 non-null   float64\n",
      " 33  handwashing_facilities          63068 non-null   float64\n",
      " 34  hospital_beds_per_thousand      114457 non-null  float64\n",
      " 35  life_expectancy                 143648 non-null  float64\n",
      " 36  human_development_index         126114 non-null  float64\n",
      " 37  excess_mortality                5234 non-null    float64\n",
      "dtypes: float64(35), object(3)\n",
      "memory usage: 43.3+ MB\n"
     ]
    }
   ],
   "source": [
    "covid_data_alt['continent'].replace('', np.nan, inplace=True)\n",
    "covid_data_alt.dropna(subset=['continent'], inplace=True)\n",
    "covid_data_alt.info()"
   ]
  },
  {
   "cell_type": "code",
   "execution_count": 20,
   "metadata": {},
   "outputs": [
    {
     "data": {
      "text/plain": [
       "9306"
      ]
     },
     "execution_count": 20,
     "metadata": {},
     "output_type": "execute_result"
    }
   ],
   "source": [
    "154683-145377"
   ]
  },
  {
   "cell_type": "code",
   "execution_count": null,
   "metadata": {},
   "outputs": [],
   "source": []
  }
 ],
 "metadata": {
  "kernelspec": {
   "display_name": "Python 3",
   "language": "python",
   "name": "python3"
  },
  "language_info": {
   "codemirror_mode": {
    "name": "ipython",
    "version": 3
   },
   "file_extension": ".py",
   "mimetype": "text/x-python",
   "name": "python",
   "nbconvert_exporter": "python",
   "pygments_lexer": "ipython3",
   "version": "3.8.5"
  }
 },
 "nbformat": 4,
 "nbformat_minor": 4
}
